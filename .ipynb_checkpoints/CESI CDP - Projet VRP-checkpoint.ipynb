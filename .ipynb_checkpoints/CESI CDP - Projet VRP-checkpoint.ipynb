{
 "cells": [
  {
   "cell_type": "markdown",
   "metadata": {},
   "source": [
    "CESI CDP - Rapport de projet\n",
    "===\n",
    "\n",
    "### Introduction\n",
    "\n",
    "Notre équipe du CesiCDP est assignée à une mission d'optimisation: nous devons résoudre un problème de VRP (Vehicle Routing Problem) afin de pouvoir diriger les livraisons sur un parcours optimisé. Bien qu'il existe des outils open-source résolvant ce type de problème, le groupe CesiCDP nous a demandé de créer un outil sur mesure en langage python, et d'analyser ses performances.\n",
    "\n",
    "### Sommaire\n",
    "\n",
    "1. Modélisation du problème\n",
    "    * Définition du problème\n",
    "    * Étude de complexité\n",
    "2. Présentation du choix et description de l'algorithme\n",
    "    * Fonctionnement & paramètres\n",
    "    * Spécificités ajoutées à l'algorithme\n",
    "3. Illustration de cas de tests\n",
    "4. Étude statistique\n",
    "    * Statistiques descriptives et prédictives\n",
    "    * Variation en fonction des paramètres\n",
    "    * Analyse des résultats"
   ]
  },
  {
   "cell_type": "markdown",
   "metadata": {},
   "source": [
    "## 1. Modélisation du problème\n",
    "\n",
    "### Définition du problème\n",
    "\n",
    "Il nous a été demandé de résoudre un problème de tournées de véhicule. Nous avons décidé que les sommets à visiter seronts définis par leurs coordonnées. Dans notre cas, nou devrons trouver des itinéraires pour effectuer des tournées de livraisons pour atteindre différentes villes sur un large territoire, nous admettons alors que le graphe est complet, et non orienté. Par ailleurs, la plupart des datasets de recherche utilisent les mêmes contraintes pour leurs implémentations d'algorithmes.\n",
    "L'objectif est de passer une fois seulement par tous les sommets, et de revenir au point de départ, en minimisant la distance totale parcourue.\n",
    "\n",
    "### Étude de complexité\n",
    "\n",
    "Le problème du VRP est NP-Complet. Nous ne savons pas résoudre ce problème de façon optimale, c'est pour cela que nous allons utiliser une méta-heuristique: le recuit simulé.\n",
    "Les problèmes NP-complets d'optimisation combinatoire sont caractérisés par une complexité exponentielle ou factorielle, par conséquent, il est impossible d'énumérer toutes les solutions possibles car cela dépasse la capacité de calcul de n'importe quel ordinateur. Il est donc très difficile de trouver la solution optimale.\n",
    "\n",
    "Les méthodes approchées ou heuristiques présentent l'avantage d'un temps de calcul réduit mais ne donnent aucune information sur la qualité de la solution trouvée.\n",
    "Pour résoudre des problèmes difficiles (par exemple ceux qui présentent de nombreux extrema locaux pauvres), des techniques ont été conçues pour déterminer des solutions qui ne sont pas rigoureusement optimales, mais qui s’en approchent. Ces méthodes se basent généralement sur des phénomènes physiques, biologiques, socio-psychologiques ou font appel au hasard. Les domaines d’application sont vastes et s’étendent souvent bien au-delà des problèmes pour lesquels elles ont été initialement conçues.\n",
    "\n",
    "Les métaheuristiques sont le plus souvent des recherches locales modifiées pour éviter les minima locaux. Leur conception commence par l’étude d’une recherche locale classique (définition d’un voisinage, avec transformations simples), que l’on promeut ensuite en une méthode plus puissante si elle s’avère insuffisante. Il s’agit de méthodes très générales, dans lesquelles plusieurs composants doivent être précisés en fonction du problème à traiter."
   ]
  },
  {
   "cell_type": "markdown",
   "metadata": {},
   "source": [
    "## 2. Présentation du choix et description de l'algorithme\n",
    "\n",
    "### Fonctionnement et paramètres\n",
    "\n"
   ]
  }
 ],
 "metadata": {
  "kernelspec": {
   "display_name": "Python 3",
   "language": "python",
   "name": "python3"
  },
  "language_info": {
   "codemirror_mode": {
    "name": "ipython",
    "version": 3
   },
   "file_extension": ".py",
   "mimetype": "text/x-python",
   "name": "python",
   "nbconvert_exporter": "python",
   "pygments_lexer": "ipython3",
   "version": "3.7.3"
  }
 },
 "nbformat": 4,
 "nbformat_minor": 2
}
